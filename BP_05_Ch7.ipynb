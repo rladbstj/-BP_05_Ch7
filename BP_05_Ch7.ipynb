{
  "nbformat": 4,
  "nbformat_minor": 0,
  "metadata": {
    "colab": {
      "provenance": [],
      "authorship_tag": "ABX9TyMex/5ymrqAnWoAP28TDXbm",
      "include_colab_link": true
    },
    "kernelspec": {
      "name": "python3",
      "display_name": "Python 3"
    },
    "language_info": {
      "name": "python"
    }
  },
  "cells": [
    {
      "cell_type": "markdown",
      "metadata": {
        "id": "view-in-github",
        "colab_type": "text"
      },
      "source": [
        "<a href=\"https://colab.research.google.com/github/rladbstj/-BP_05_Ch7/blob/main/BP_05_Ch7.ipynb\" target=\"_parent\"><img src=\"https://colab.research.google.com/assets/colab-badge.svg\" alt=\"Open In Colab\"/></a>"
      ]
    },
    {
      "cell_type": "markdown",
      "source": [
        "5. 다음과 같이 이름을 받아서 생일 축하 노래를 출력하는 함수 happyBirthday()를 작성하고 테스트하시오."
      ],
      "metadata": {
        "id": "Se8L_0GPirGV"
      }
    },
    {
      "cell_type": "code",
      "source": [
        "def happyBirthday(person):   # def을 쓰고 노래제목을 작성\n",
        " print(\"Happy Birthday to you!\")\n",
        " print(\"Happy Birthday to you!\")\n",
        " print(\"Happy Birthday, dear \" + person)\n",
        " print(\"Happy Birthday to you!\")    # 노래가사를 씀\n",
        "happyBirthday(\"김윤서\")      # happyBirthday안에 들어있던 내용이 출력됨."
      ],
      "metadata": {
        "colab": {
          "base_uri": "https://localhost:8080/"
        },
        "id": "Bmid1oa2i6Nm",
        "outputId": "bc65b295-e262-4332-80fc-a8312e9ae4d1"
      },
      "execution_count": 1,
      "outputs": [
        {
          "output_type": "stream",
          "name": "stdout",
          "text": [
            "Happy Birthday to you!\n",
            "Happy Birthday to you!\n",
            "Happy Birthday, dear 김윤서\n",
            "Happy Birthday to you!\n"
          ]
        }
      ]
    },
    {
      "cell_type": "markdown",
      "source": [
        "6. 사용자로부터 2개의 정수를 받아서 수학 문제를 만들어서 화면에 출력하는 함수를 작성하고 테스트하시오. "
      ],
      "metadata": {
        "id": "-Ci2Ds6oirJN"
      }
    },
    {
      "cell_type": "code",
      "source": [
        "def sumProblem(x, y):\n",
        " sum = x + y\n",
        " sentence = \"정수\" + str(x) + \"+\"+str(y)+\"의 합은?\"\n",
        " print(sentence)\n",
        "def main():\n",
        " a = int(input(\"첫 번째 정수: \"))\n",
        " b = int(input(\"두 번째 정수: \"))\n",
        " sumProblem(a, b)\n",
        "main()"
      ],
      "metadata": {
        "colab": {
          "base_uri": "https://localhost:8080/"
        },
        "id": "THXbIEQ4i6Qv",
        "outputId": "9e36b371-1e48-4b7c-a809-7f52c86e1d60"
      },
      "execution_count": 2,
      "outputs": [
        {
          "output_type": "stream",
          "name": "stdout",
          "text": [
            "첫 번째 정수: 10\n",
            "두 번째 정수: 10\n",
            "정수10+10의 합은?\n"
          ]
        }
      ]
    },
    {
      "cell_type": "markdown",
      "source": [
        "7. 파이를 나타내는 PI=3.14를 전역 변수로 하여 원의 면저을 계산하는 함수 circleCircumference(radius)를 작성하고 테스트하라. "
      ],
      "metadata": {
        "id": "bv-Ra4UEirL1"
      }
    },
    {
      "cell_type": "code",
      "source": [
        "PI = 3.14159265358979\n",
        "def circleArea(radius):\n",
        " return PI*radius*radius\n",
        "def circleCircumference(radius):\n",
        " return 2*PI*radius\n",
        "def main():\n",
        " print('반지름이 5인 원의 면적:', circleArea(5))\n",
        " print('반지름이 5인 원의 둘레:', circleCircumference(5))\n",
        "main()"
      ],
      "metadata": {
        "colab": {
          "base_uri": "https://localhost:8080/"
        },
        "id": "fwsyXINvi6T8",
        "outputId": "d683ab19-0fca-4609-d7ce-57be2434ffbd"
      },
      "execution_count": 3,
      "outputs": [
        {
          "output_type": "stream",
          "name": "stdout",
          "text": [
            "반지름이 5인 원의 면적: 78.53981633974475\n",
            "반지름이 5인 원의 둘레: 31.4159265358979\n"
          ]
        }
      ]
    },
    {
      "cell_type": "markdown",
      "source": [
        "8. 덧셈, 뺄셈, 곱셈, 나눗셈을 수행하는 함수를 각각 작성하고 테스트하라."
      ],
      "metadata": {
        "id": "ASIcWcb7irUt"
      }
    },
    {
      "cell_type": "code",
      "source": [
        "def add(a, b):\n",
        " print( \"(%d + %d)\" % (a, b), end=\" \")\n",
        " return a + b\n",
        "def subtract(a, b):\n",
        " print (\"(%d - %d)\" % (a, b), end=\" \")\n",
        " return a - b\n",
        "def multiply(a, b):\n",
        " print (\"(%d * %d)\" % (a, b), end=\" \")\n",
        " return a * b\n",
        "def divide(a, b):\n",
        " print (\"(%d / %d)\" % (a, b), end=\" \")\n",
        " return a / b\n",
        "what = add(20, 10)\n",
        "print(\"= \", what)"
      ],
      "metadata": {
        "colab": {
          "base_uri": "https://localhost:8080/"
        },
        "id": "dIMM93Bzi6XP",
        "outputId": "fdce22e6-3c3d-403c-b63a-524e9367f1de"
      },
      "execution_count": 4,
      "outputs": [
        {
          "output_type": "stream",
          "name": "stdout",
          "text": [
            "(20 + 10) =  30\n"
          ]
        }
      ]
    }
  ]
}